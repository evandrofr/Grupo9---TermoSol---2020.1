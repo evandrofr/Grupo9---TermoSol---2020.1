{
 "cells": [
  {
   "cell_type": "code",
   "execution_count": 44,
   "metadata": {},
   "outputs": [],
   "source": [
    "import numpy as np\n",
    "from math import sin,cos,pi\n",
    "from funcoesTermosol import *"
   ]
  },
  {
   "cell_type": "code",
   "execution_count": 61,
   "metadata": {},
   "outputs": [
    {
     "name": "stdout",
     "output_type": "stream",
     "text": [
      "[[ 0.  4.  4.  8.  8. 12. 12. 16.]\n",
      " [ 0.  4.  0.  4.  0.  4.  0.  0.]] \n",
      "\n",
      "[[1.00e+00 2.00e+00 2.10e+11 2.25e-02]\n",
      " [1.00e+00 3.00e+00 2.10e+11 2.25e-02]\n",
      " [2.00e+00 3.00e+00 2.10e+11 2.25e-02]\n",
      " [2.00e+00 4.00e+00 2.10e+11 2.25e-02]\n",
      " [3.00e+00 4.00e+00 2.10e+11 2.25e-02]\n",
      " [3.00e+00 5.00e+00 2.10e+11 2.25e-02]\n",
      " [4.00e+00 5.00e+00 2.10e+11 2.25e-02]\n",
      " [4.00e+00 6.00e+00 2.10e+11 2.25e-02]\n",
      " [4.00e+00 7.00e+00 2.10e+11 2.25e-02]\n",
      " [5.00e+00 7.00e+00 2.10e+11 2.25e-02]\n",
      " [6.00e+00 7.00e+00 2.10e+11 2.25e-02]\n",
      " [6.00e+00 8.00e+00 2.10e+11 2.25e-02]\n",
      " [7.00e+00 8.00e+00 2.10e+11 2.25e-02]]\n"
     ]
    }
   ],
   "source": [
    "numNo,matrixNo,numMemb,matrixInc,numCar,vetorFor,numRes,vetorRes = importa(\"entrada-aps.xlsx\")\n",
    "print(matrixNo,\"\\n\")\n",
    "print(matrixInc)"
   ]
  },
  {
   "cell_type": "markdown",
   "metadata": {},
   "source": [
    "<img src=\"EstruturaNumerada.png\">"
   ]
  },
  {
   "cell_type": "code",
   "execution_count": 46,
   "metadata": {},
   "outputs": [
    {
     "data": {
      "image/png": "[encoded data removed]",
      "text/plain": [
       "<Figure size 432x288 with 1 Axes>"
      ]
     },
     "metadata": {},
     "output_type": "display_data"
    }
   ],
   "source": [
    "plota(matrixNo,matrixInc)"
   ]
  },
  {
   "cell_type": "code",
   "execution_count": 47,
   "metadata": {},
   "outputs": [],
   "source": [
    "class no:\n",
    "    def __init__(self, num, ponto):\n",
    "        self.x = ponto[0]\n",
    "        self.y = ponto[1]\n",
    "        self.num = num\n",
    "        self.graux = num*2 - 1\n",
    "        self.grauy = num*2"
   ]
  },
  {
   "cell_type": "code",
   "execution_count": 48,
   "metadata": {},
   "outputs": [],
   "source": [
    "class barra:\n",
    "    def __init__(self,E,A, no1, no2):\n",
    "        self.E = E\n",
    "        self.A = A\n",
    "        self.L = ((no2.x - no1.x)**2+(no2.y - no1.y)**2)**0.5\n",
    "        s = (no2.y - no1.y)/self.L\n",
    "        c = (no2.x - no1.x)/self.L\n",
    "        self.matrix = (self.E*self.A/self.L)*np.array([[c**2,c*s,-c**2,-c*s],\n",
    "                                                       [c*s,s**2,-c*s,-s**2],\n",
    "                                                       [-c**2,-c*s,c**2,c*s],\n",
    "                                                       [-c*s,-s**2,c*s,s**2]])\n",
    "        self.listagraus = [no1.graux, no1.grauy, no2.graux, no2.grauy]\n"
   ]
  },
  {
   "cell_type": "code",
   "execution_count": 49,
   "metadata": {},
   "outputs": [],
   "source": [
    "def simplificaGeral(matrix, vetorRes):\n",
    "    newMatrix = np.delete(matrix, (vetorRes), axis=0)\n",
    "    newMatrix = np.delete(newMatrix, (vetorRes), axis=1)\n",
    "    return newMatrix\n",
    "\n",
    "def simplificaSimples(matrix, vetorRes):\n",
    "    newMatrix = np.delete(matrix, (vetorRes), axis=0)\n",
    "    return newMatrix\n"
   ]
  },
  {
   "cell_type": "code",
   "execution_count": 50,
   "metadata": {},
   "outputs": [],
   "source": [
    "def matrixKg(listaBarra, numNos):\n",
    "    n = len(listaBarra)\n",
    "    zero = np.zeros((numNos*2,numNos*2))\n",
    "    for bar in listaBarra:\n",
    "        zero[bar.listagraus[0]-1:bar.listagraus[1],bar.listagraus[0]-1:bar.listagraus[1]] += bar.matrix[0:2,0:2]\n",
    "        \n",
    "        zero[bar.listagraus[0]-1:bar.listagraus[1],bar.listagraus[2]-1:bar.listagraus[3]] += bar.matrix[0:2,2:4]\n",
    "        \n",
    "        zero[bar.listagraus[2]-1:bar.listagraus[3],bar.listagraus[0]-1:bar.listagraus[1]] += bar.matrix[2:4,0:2]\n",
    "        \n",
    "        zero[bar.listagraus[2]-1:bar.listagraus[3],bar.listagraus[2]-1:bar.listagraus[3]] += bar.matrix[2:4,2:4]\n",
    "\n",
    "    return zero\n"
   ]
  },
  {
   "cell_type": "code",
   "execution_count": 51,
   "metadata": {},
   "outputs": [],
   "source": [
    "def jacobi(matrixRigidez, matrixForca, tolerancia):\n",
    "    size = len(matrixRigidez)\n",
    "    matrixDeslocamento = np.array([[0.0]]*size)\n",
    "    loop = True\n",
    "    while loop:\n",
    "        comp = matrixDeslocamento.copy()\n",
    "        for n in range(size):\n",
    "            R = matrixForca[n][0]\n",
    "            for i in range(size):\n",
    "                R -= matrixRigidez[n][i]*matrixDeslocamento[i][0]\n",
    "            R += matrixRigidez[n][n]*matrixDeslocamento[n][0]\n",
    "            R = R/matrixRigidez[n][n]    \n",
    "            matrixDeslocamento[n][0] = R\n",
    "        if(max(abs(comp - matrixDeslocamento))[0] < tolerancia):\n",
    "            loop = False\n",
    "    return matrixDeslocamento\n",
    "            \n",
    "        \n",
    "        \n"
   ]
  },
  {
   "cell_type": "code",
   "execution_count": 52,
   "metadata": {},
   "outputs": [],
   "source": [
    "# def matrixKg(listaMatrix):\n",
    "#     n = len(listaMatrix)\n",
    "#     zero = np.zeros((n+1,n+1))\n",
    "#     for i,mat in enumerate(listaMatrix):\n",
    "#         zero[i][i] = mat[0][0]\n",
    "#         zero[i][i+1] = mat[0][1]\n",
    "#         zero[i+1][i] = mat[1][0]\n",
    "#         zero[i+1][i+1] = mat[1][1]\n",
    "#     return zero\n",
    "    "
   ]
  },
  {
   "cell_type": "code",
   "execution_count": 53,
   "metadata": {},
   "outputs": [],
   "source": [
    "listaNo = []\n",
    "for i in range(numNo):\n",
    "    n = no(i+1, [matrixNo[0][i],matrixNo[1][i]])\n",
    "    listaNo.append(n)\n"
   ]
  },
  {
   "cell_type": "code",
   "execution_count": 54,
   "metadata": {},
   "outputs": [
    {
     "name": "stdout",
     "output_type": "stream",
     "text": [
      "[1, 2, 3, 4]\n",
      "[1, 2, 5, 6]\n",
      "[3, 4, 5, 6]\n",
      "[3, 4, 7, 8]\n",
      "[5, 6, 7, 8]\n",
      "[5, 6, 9, 10]\n",
      "[7, 8, 9, 10]\n",
      "[7, 8, 11, 12]\n",
      "[7, 8, 13, 14]\n",
      "[9, 10, 13, 14]\n",
      "[11, 12, 13, 14]\n",
      "[11, 12, 15, 16]\n",
      "[13, 14, 15, 16]\n"
     ]
    }
   ],
   "source": [
    "listaBarra = []\n",
    "for i in range(len(matrixInc)):\n",
    "    b = barra(matrixInc[i][2],matrixInc[i][3],listaNo[int(matrixInc[i][0]) - 1],listaNo[int(matrixInc[i][1]) - 1])\n",
    "    listaBarra.append(b)\n",
    "    print(b.listagraus)"
   ]
  },
  {
   "cell_type": "code",
   "execution_count": 62,
   "metadata": {},
   "outputs": [],
   "source": [
    "Kg = matrixKg(listaBarra, numNo)\n"
   ]
  },
  {
   "cell_type": "code",
   "execution_count": 56,
   "metadata": {},
   "outputs": [
    {
     "name": "stderr",
     "output_type": "stream",
     "text": [
      "C:\\Users\\55419\\Anaconda3\\lib\\site-packages\\ipykernel_launcher.py:2: DeprecationWarning: using a non-integer array as obj in delete will result in an error in the future\n",
      "  \n",
      "C:\\Users\\55419\\Anaconda3\\lib\\site-packages\\ipykernel_launcher.py:3: DeprecationWarning: using a non-integer array as obj in delete will result in an error in the future\n",
      "  This is separate from the ipykernel package so we can avoid doing imports until\n",
      "C:\\Users\\55419\\Anaconda3\\lib\\site-packages\\ipykernel_launcher.py:7: DeprecationWarning: using a non-integer array as obj in delete will result in an error in the future\n",
      "  import sys\n"
     ]
    }
   ],
   "source": [
    "simpleKg = simplificaGeral(Kg,vetorRes)\n",
    "simpleVetorFor = simplificaSimples(vetorFor,vetorRes)"
   ]
  },
  {
   "cell_type": "code",
   "execution_count": 57,
   "metadata": {},
   "outputs": [],
   "source": [
    "deslocamento = np.linalg.solve(simpleKg,simpleVetorFor)"
   ]
  },
  {
   "cell_type": "code",
   "execution_count": 58,
   "metadata": {},
   "outputs": [
    {
     "data": {
      "text/plain": [
       "array([[ 5.61051385e-06],\n",
       "       [-2.14794359e-05],\n",
       "       [-1.01587289e-05],\n",
       "       [ 1.80907611e-12],\n",
       "       [-6.76251848e-05],\n",
       "       [ 9.75368502e-13],\n",
       "       [-6.76251848e-05],\n",
       "       [-5.61051026e-06],\n",
       "       [-2.14794350e-05],\n",
       "       [ 1.01587307e-05]])"
      ]
     },
     "execution_count": 58,
     "metadata": {},
     "output_type": "execute_result"
    }
   ],
   "source": [
    "jacobi(simpleKg,simpleVetorFor, 1e-12)"
   ]
  },
  {
   "cell_type": "code",
   "execution_count": 59,
   "metadata": {},
   "outputs": [],
   "source": [
    "listadeslocamento = [float(i) for i in deslocamento]\n",
    "listaRes = [int(i) for i in vetorRes]\n",
    "for n in range(len(listaNo)*2):\n",
    "    if(n in listaRes):\n",
    "        listadeslocamento.insert(n,0)\n"
   ]
  },
  {
   "cell_type": "code",
   "execution_count": 69,
   "metadata": {},
   "outputs": [
    {
     "name": "stdout",
     "output_type": "stream",
     "text": [
      "[[ 0.  4.  4.  8.  8. 12. 12. 16.]\n",
      " [ 0.  4.  0.  4.  0.  4.  0.  0.]]\n",
      "[[ 0.00000000e+00  4.00000561e+00  3.99998984e+00  8.00000000e+00\n",
      "   8.00000000e+00  1.19999944e+01  1.20000102e+01  1.60000000e+01]\n",
      " [ 0.00000000e+00  3.99997852e+00  0.00000000e+00  3.99993237e+00\n",
      "  -6.76251860e-05  3.99997852e+00  0.00000000e+00  0.00000000e+00]]\n"
     ]
    }
   ],
   "source": [
    "newMatrixNo = matrixNo.copy()\n",
    "for idx,valor in enumerate(listadeslocamento):\n",
    "    if(idx%2==0):\n",
    "        newMatrixNo[0][int(idx/2)] += valor\n",
    "    else:\n",
    "        newMatrixNo[1][int(idx/2)] += valor\n",
    "print(matrixNo)\n",
    "print(newMatrixNo)"
   ]
  },
  {
   "cell_type": "code",
   "execution_count": 70,
   "metadata": {},
   "outputs": [
    {
     "data": {
      "image/png": "[encoded data removed]",
      "text/plain": [
       "<Figure size 432x288 with 1 Axes>"
      ]
     },
     "metadata": {},
     "output_type": "display_data"
    }
   ],
   "source": [
    "plota(newMatrixNo,matrixInc)"
   ]
  },
  {
   "cell_type": "code",
   "execution_count": null,
   "metadata": {},
   "outputs": [],
   "source": []
  }
 ],
 "metadata": {
  "kernelspec": {
   "display_name": "Python 3",
   "language": "python",
   "name": "python3"
  },
  "language_info": {
   "codemirror_mode": {
    "name": "ipython",
    "version": 3
   },
   "file_extension": ".py",
   "mimetype": "text/x-python",
   "name": "python",
   "nbconvert_exporter": "python",
   "pygments_lexer": "ipython3",
   "version": "3.6.5"
  }
 },
 "nbformat": 4,
 "nbformat_minor": 2
}
