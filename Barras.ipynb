{
 "cells": [
  {
   "cell_type": "code",
   "execution_count": 1,
   "metadata": {},
   "outputs": [],
   "source": [
    "import numpy as np\n",
    "from math import sin,cos,pi\n",
    "from funcoesTermosol import *"
   ]
  },
  {
   "cell_type": "code",
   "execution_count": 2,
   "metadata": {},
   "outputs": [],
   "source": [
    "numNo,matrixNo,numMemb,matrixInc,numCar,vetorFor,numRes,vetorRes = importa(\"entrada-aps.xlsx\")\n",
    "# print(matrixNo,\"\\n\")\n",
    "# print(matrixInc)"
   ]
  },
  {
   "cell_type": "markdown",
   "metadata": {},
   "source": [
    "<img src=\"EstruturaNumerada2.png\">"
   ]
  },
  {
   "cell_type": "code",
   "execution_count": 3,
   "metadata": {},
   "outputs": [
    {
     "data": {
      "image/png": "[encoded data removed]",
      "text/plain": [
       "<Figure size 432x288 with 1 Axes>"
      ]
     },
     "metadata": {
      "needs_background": "light"
     },
     "output_type": "display_data"
    }
   ],
   "source": [
    "plota(matrixNo,matrixInc)"
   ]
  },
  {
   "cell_type": "code",
   "execution_count": 4,
   "metadata": {},
   "outputs": [],
   "source": [
    "class no:\n",
    "    def __init__(self, num, ponto):\n",
    "        self.x = ponto[0]\n",
    "        self.y = ponto[1]\n",
    "        self.num = num\n",
    "        self.graux = num*2 - 1\n",
    "        self.grauy = num*2"
   ]
  },
  {
   "cell_type": "code",
   "execution_count": 5,
   "metadata": {},
   "outputs": [],
   "source": [
    "class barra:\n",
    "    def __init__(self,E,A, no1, no2):\n",
    "        self.no1 = no1\n",
    "        self.no2 = no2\n",
    "        self.E = E\n",
    "        self.A = A\n",
    "        self.L = ((no2.x - no1.x)**2+(no2.y - no1.y)**2)**0.5\n",
    "        s = (no2.y - no1.y)/self.L\n",
    "        c = (no2.x - no1.x)/self.L\n",
    "        self.s=s\n",
    "        self.c=c\n",
    "        self.matrix = (self.E*self.A/self.L)*np.array([[c**2,c*s,-c**2,-c*s],\n",
    "                                                       [c*s,s**2,-c*s,-s**2],\n",
    "                                                       [-c**2,-c*s,c**2,c*s],\n",
    "                                                       [-c*s,-s**2,c*s,s**2]])\n",
    "        \n",
    "        self.listagraus = [no1.graux, no1.grauy, no2.graux, no2.grauy]\n",
    "        self.forcainterna = None\n",
    "        self.tensao = None\n",
    "        self.defesp = None\n",
    "        \n",
    "    def calculaTudo(self, desno1x, desno1y,desno2x,desno2y):\n",
    "        s = (self.no2.y - self.no1.y)/self.L\n",
    "        c = (self.no2.x - self.no1.x)/self.L\n",
    "        self.defesp = (-c*desno1x-s*desno1y+c*desno2x+s*desno2y)/self.L\n",
    "        self.tensao = self.E*self.defesp\n",
    "        self.forcainterna = self.tensao*self.A\n",
    "        return self.defesp,self.tensao, self.forcainterna\n",
    "            \n"
   ]
  },
  {
   "cell_type": "code",
   "execution_count": 6,
   "metadata": {},
   "outputs": [],
   "source": [
    "def simplificaGeral(matrix, vetorRes):\n",
    "    newMatrix = np.delete(matrix, (vetorRes), axis=0)\n",
    "    newMatrix = np.delete(newMatrix, (vetorRes), axis=1)\n",
    "    return newMatrix\n",
    "\n",
    "def simplificaSimples(matrix, vetorRes):\n",
    "    newMatrix = np.delete(matrix, (vetorRes), axis=0)\n",
    "    return newMatrix\n"
   ]
  },
  {
   "cell_type": "code",
   "execution_count": 7,
   "metadata": {},
   "outputs": [],
   "source": [
    "def matrixKg(listaBarra, numNos):\n",
    "    n = len(listaBarra)\n",
    "    zero = np.zeros((numNos*2,numNos*2))\n",
    "    for bar in listaBarra:\n",
    "        zero[bar.listagraus[0]-1:bar.listagraus[1],bar.listagraus[0]-1:bar.listagraus[1]] += bar.matrix[0:2,0:2]\n",
    "        \n",
    "        zero[bar.listagraus[0]-1:bar.listagraus[1],bar.listagraus[2]-1:bar.listagraus[3]] += bar.matrix[0:2,2:4]\n",
    "        \n",
    "        zero[bar.listagraus[2]-1:bar.listagraus[3],bar.listagraus[0]-1:bar.listagraus[1]] += bar.matrix[2:4,0:2]\n",
    "        \n",
    "        zero[bar.listagraus[2]-1:bar.listagraus[3],bar.listagraus[2]-1:bar.listagraus[3]] += bar.matrix[2:4,2:4]\n",
    "\n",
    "    return zero\n"
   ]
  },
  {
   "cell_type": "code",
   "execution_count": 8,
   "metadata": {},
   "outputs": [],
   "source": [
    "def jacobi(matrixRigidez, matrixForca, tolerancia):\n",
    "    size = len(matrixRigidez)\n",
    "    matrixDeslocamento = np.array([[0.0]]*size)\n",
    "    loop = True\n",
    "    while loop:\n",
    "        comp = matrixDeslocamento.copy()\n",
    "        for n in range(size):\n",
    "            R = matrixForca[n][0]\n",
    "            for i in range(size):\n",
    "                R -= matrixRigidez[n][i]*matrixDeslocamento[i][0]\n",
    "            R += matrixRigidez[n][n]*matrixDeslocamento[n][0]\n",
    "            R = R/matrixRigidez[n][n]    \n",
    "            matrixDeslocamento[n][0] = R\n",
    "        if(max(abs(comp - matrixDeslocamento))[0] < tolerancia):\n",
    "            loop = False\n",
    "    return matrixDeslocamento\n",
    "            \n",
    "        \n",
    "        \n"
   ]
  },
  {
   "cell_type": "code",
   "execution_count": 9,
   "metadata": {},
   "outputs": [],
   "source": [
    "listaNo = []\n",
    "for i in range(numNo):\n",
    "    n = no(i+1, [matrixNo[0][i],matrixNo[1][i]])\n",
    "    listaNo.append(n)\n"
   ]
  },
  {
   "cell_type": "code",
   "execution_count": 10,
   "metadata": {},
   "outputs": [],
   "source": [
    "listaBarra = []\n",
    "for i in range(len(matrixInc)):\n",
    "    b = barra(matrixInc[i][2],matrixInc[i][3],listaNo[int(matrixInc[i][0]) - 1],listaNo[int(matrixInc[i][1]) - 1])\n",
    "    listaBarra.append(b)\n",
    "#     print(b.listagraus)"
   ]
  },
  {
   "cell_type": "code",
   "execution_count": 11,
   "metadata": {},
   "outputs": [],
   "source": [
    "Kg = matrixKg(listaBarra, numNo)"
   ]
  },
  {
   "cell_type": "code",
   "execution_count": 12,
   "metadata": {},
   "outputs": [
    {
     "name": "stderr",
     "output_type": "stream",
     "text": [
      "<ipython-input-6-982ca213e79b>:2: DeprecationWarning: using a non-integer array as obj in delete will result in an error in the future\n",
      "  newMatrix = np.delete(matrix, (vetorRes), axis=0)\n",
      "<ipython-input-6-982ca213e79b>:3: DeprecationWarning: using a non-integer array as obj in delete will result in an error in the future\n",
      "  newMatrix = np.delete(newMatrix, (vetorRes), axis=1)\n",
      "<ipython-input-6-982ca213e79b>:7: DeprecationWarning: using a non-integer array as obj in delete will result in an error in the future\n",
      "  newMatrix = np.delete(matrix, (vetorRes), axis=0)\n"
     ]
    }
   ],
   "source": [
    "simpleKg = simplificaGeral(Kg,vetorRes)\n",
    "simpleVetorFor = simplificaSimples(vetorFor,vetorRes)"
   ]
  },
  {
   "cell_type": "code",
   "execution_count": 13,
   "metadata": {},
   "outputs": [],
   "source": [
    "deslocamento = np.linalg.solve(simpleKg,simpleVetorFor)\n",
    "# deslocamento"
   ]
  },
  {
   "cell_type": "code",
   "execution_count": 14,
   "metadata": {},
   "outputs": [],
   "source": [
    "# jacobi(simpleKg,simpleVetorFor, 1e-12)"
   ]
  },
  {
   "cell_type": "code",
   "execution_count": 15,
   "metadata": {},
   "outputs": [],
   "source": [
    "listadeslocamento = [[float(i)] for i in deslocamento]\n",
    "listaRes = [int(i) for i in vetorRes]\n",
    "for n in range(len(listaNo)*2):\n",
    "    if(n in listaRes):\n",
    "        listadeslocamento.insert(n,[0])\n",
    "listadeslocamento = np.array(listadeslocamento)"
   ]
  },
  {
   "cell_type": "code",
   "execution_count": 16,
   "metadata": {},
   "outputs": [
    {
     "name": "stdout",
     "output_type": "stream",
     "text": [
      "[[ 0.  4.  4.  8.  8. 12. 12. 16.]\n",
      " [ 0.  4.  0.  4.  0.  4.  0.  0.]]\n",
      "[[ 0.          4.01683154  3.96952381  8.          8.         11.98316846\n",
      "  12.03047619 16.        ]\n",
      " [ 0.          3.93556169  0.          3.79712444 -0.20287556  3.93556169\n",
      "   0.          0.        ]]\n"
     ]
    }
   ],
   "source": [
    "newMatrixNo = matrixNo.copy()\n",
    "for idx,valor in enumerate(listadeslocamento):\n",
    "    if(idx%2==0):\n",
    "        newMatrixNo[0][int(idx/2)] += valor[0]*3e3\n",
    "    else:\n",
    "        newMatrixNo[1][int(idx/2)] += valor[0]*3e3\n",
    "print(matrixNo)\n",
    "print(newMatrixNo)"
   ]
  },
  {
   "cell_type": "code",
   "execution_count": 17,
   "metadata": {},
   "outputs": [
    {
     "data": {
      "image/png": "[encoded data removed]",
      "text/plain": [
       "<Figure size 432x288 with 1 Axes>"
      ]
     },
     "metadata": {
      "needs_background": "light"
     },
     "output_type": "display_data"
    }
   ],
   "source": [
    "plota(newMatrixNo,matrixInc)"
   ]
  },
  {
   "cell_type": "code",
   "execution_count": 18,
   "metadata": {},
   "outputs": [],
   "source": [
    "listaDef = []\n",
    "listaTensao = []\n",
    "listaForcaInterna = []\n",
    "\n",
    "for b in listaBarra:\n",
    "    dx1 = listadeslocamento[b.no1.graux-1]\n",
    "    dy1 = listadeslocamento[b.no1.grauy-1]\n",
    "    dx2 = listadeslocamento[b.no2.graux-1]\n",
    "    dy2 = listadeslocamento[b.no2.grauy-1]\n",
    "    \n",
    "    defor,tens,fi = b.calculaTudo(dx1,dy1,dx2,dy2)\n",
    "    listaDef.append(defor)\n",
    "    listaTensao.append(tens)\n",
    "    listaForcaInterna.append(fi)\n",
    "listaDef = np.array(listaDef)\n",
    "listaTensao = np.array(listaTensao)\n",
    "listaForcaInterna = np.array(listaForcaInterna)"
   ]
  },
  {
   "cell_type": "code",
   "execution_count": 19,
   "metadata": {},
   "outputs": [],
   "source": [
    "listaR=Kg.dot(listadeslocamento)\n",
    "listaReacao=[[0.0]]*numNo*2\n",
    "for i in vetorRes:\n",
    "    listaReacao[int(i[0])]=[listaR[int(i[0])][0]]\n",
    "listaReacao=np.array(listaReacao)"
   ]
  },
  {
   "cell_type": "code",
   "execution_count": 20,
   "metadata": {},
   "outputs": [],
   "source": [
    "geraSaida(\"saida\",listaReacao,listadeslocamento,listaDef,listaForcaInterna,listaTensao)"
   ]
  }
 ],
 "metadata": {
  "kernelspec": {
   "display_name": "Python 3",
   "language": "python",
   "name": "python3"
  },
  "language_info": {
   "codemirror_mode": {
    "name": "ipython",
    "version": 3
   },
   "file_extension": ".py",
   "mimetype": "text/x-python",
   "name": "python",
   "nbconvert_exporter": "python",
   "pygments_lexer": "ipython3",
   "version": "3.8.1"
  }
 },
 "nbformat": 4,
 "nbformat_minor": 2
}
