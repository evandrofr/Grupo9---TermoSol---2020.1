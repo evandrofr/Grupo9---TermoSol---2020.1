{
 "cells": [
  {
   "cell_type": "code",
   "execution_count": 17,
   "metadata": {},
   "outputs": [],
   "source": [
    "import numpy as np\n",
    "from math import sin,cos,pi\n",
    "from funcoesTermosol import *"
   ]
  },
  {
   "cell_type": "code",
   "execution_count": 31,
   "metadata": {},
   "outputs": [
    {
     "name": "stdout",
     "output_type": "stream",
     "text": [
      "[[1.0e+00 2.0e+00 2.1e+11 2.0e-04]\n",
      " [2.0e+00 3.0e+00 2.1e+11 2.0e-04]\n",
      " [3.0e+00 1.0e+00 2.1e+11 2.0e-04]]\n"
     ]
    }
   ],
   "source": [
    "numNo,matrixNo,numMemb,matrixInc,numCar,vetorFor,numRes,vetorRes = importa(\"entrada.xlsx\")\n",
    "print(matrixInc)"
   ]
  },
  {
   "cell_type": "code",
   "execution_count": 28,
   "metadata": {},
   "outputs": [],
   "source": [
    "class no:\n",
    "    def __init__(self, num, ponto):\n",
    "        self.x = ponto[0]\n",
    "        self.y = ponto[1]\n",
    "        self.num = num\n",
    "        self.graux = num*2 - 1\n",
    "        self.grauy = num*2"
   ]
  },
  {
   "cell_type": "code",
   "execution_count": 33,
   "metadata": {},
   "outputs": [],
   "source": [
    "class barra:\n",
    "    def __init__(self,E,A, no1, no2):\n",
    "        self.E = E\n",
    "        self.A = A\n",
    "        self.L = ((no2.x - no1.x)**2+(no2.y - no1.y)**2)**0.5\n",
    "        s = (no2.y - no1.y)/self.L\n",
    "        c = (no2.x - no1.x)/self.L\n",
    "        self.matrix = (self.E*self.A/self.L)*np.array([[c**2,c*s,-c**2,-c*s],\n",
    "                                                       [c*s,s**2,-c*s,-s**2],\n",
    "                                                       [-c**2,-c*s,c**2,c*s],\n",
    "                                                       [-c*s,-s**2,c*s,s**2]])\n",
    "        self.listagraus = [no1.graux, no1.grauy, no2.graux, no2.grauy]\n"
   ]
  },
  {
   "cell_type": "code",
   "execution_count": 21,
   "metadata": {},
   "outputs": [],
   "source": [
    "def simplificaGeral(matrix, n):\n",
    "    newMatrix = np.delete(matrix, (n), axis=0)\n",
    "    newMatrix = np.delete(newMatrix, (n), axis=1)\n",
    "    return newMatrix\n",
    "\n",
    "def simplificaSimples(matrix, n):\n",
    "    newMatrix = np.delete(matrix, (n), axis=0)\n",
    "    return newMatrix"
   ]
  },
  {
   "cell_type": "code",
   "execution_count": 8,
   "metadata": {},
   "outputs": [],
   "source": [
    "# def matrixKg(listaMatrix):\n",
    "#     n = len(listaMatrix)\n",
    "#     zero = np.zeros((n+1,n+1))\n",
    "#     for i,mat in enumerate(listaMatrix):\n",
    "#         zero[i][i] = mat[0][0]\n",
    "#         zero[i][i+1] = mat[0][1]\n",
    "#         zero[i+1][i] = mat[1][0]\n",
    "#         zero[i+1][i+1] = mat[1][1]\n",
    "#     return zero\n",
    "    "
   ]
  },
  {
   "cell_type": "code",
   "execution_count": 30,
   "metadata": {},
   "outputs": [
    {
     "name": "stdout",
     "output_type": "stream",
     "text": [
      "2\n",
      "4\n",
      "6\n"
     ]
    }
   ],
   "source": [
    "listaNo = []\n",
    "for i in range(numNo):\n",
    "    n = no(i+1, [matrixNo[0][i],matrixNo[1][i]])\n",
    "    listaNo.append(n)\n"
   ]
  },
  {
   "cell_type": "code",
   "execution_count": 37,
   "metadata": {},
   "outputs": [
    {
     "name": "stdout",
     "output_type": "stream",
     "text": [
      "[1, 2, 3, 4]\n",
      "[3, 4, 5, 6]\n",
      "[5, 6, 1, 2]\n"
     ]
    }
   ],
   "source": [
    "listaBarra = []\n",
    "for i in range(len(matrixInc)):\n",
    "    b = barra(matrixInc[i][2],matrixInc[i][3],listaNo[int(matrixInc[i][0]) - 1],listaNo[int(matrixInc[i][1]) - 1])\n",
    "    listaBarra.append(b)\n",
    "    print(b.listagraus)"
   ]
  },
  {
   "cell_type": "code",
   "execution_count": 10,
   "metadata": {},
   "outputs": [],
   "source": [
    "listaBarra = [barra1,barra2]\n",
    "listaMatrix = [bar.matrix for bar in listaBarra]"
   ]
  },
  {
   "cell_type": "code",
   "execution_count": null,
   "metadata": {},
   "outputs": [],
   "source": [
    "cos(pi/2)"
   ]
  },
  {
   "cell_type": "code",
   "execution_count": null,
   "metadata": {},
   "outputs": [],
   "source": []
  }
 ],
 "metadata": {
  "kernelspec": {
   "display_name": "Python 3",
   "language": "python",
   "name": "python3"
  },
  "language_info": {
   "codemirror_mode": {
    "name": "ipython",
    "version": 3
   },
   "file_extension": ".py",
   "mimetype": "text/x-python",
   "name": "python",
   "nbconvert_exporter": "python",
   "pygments_lexer": "ipython3",
   "version": "3.6.5"
  }
 },
 "nbformat": 4,
 "nbformat_minor": 2
}
