{
 "cells": [
  {
   "cell_type": "code",
   "execution_count": 1,
   "metadata": {},
   "outputs": [],
   "source": [
    "import numpy as np\n",
    "from math import sin,cos,pi\n",
    "from funcoesTermosol import *"
   ]
  },
  {
   "cell_type": "code",
   "execution_count": 2,
   "metadata": {},
   "outputs": [
    {
     "name": "stdout",
     "output_type": "stream",
     "text": [
      "[[ 1.]\n",
      " [13.]] \n",
      "\n"
     ]
    },
    {
     "data": {
      "text/plain": [
       "[1, 13]"
      ]
     },
     "execution_count": 2,
     "metadata": {},
     "output_type": "execute_result"
    }
   ],
   "source": [
    "numNo,matrixNo,numMemb,matrixInc,numCar,vetorFor,numRes,vetorRes = importa(\"entrada-desafio.xlsx\")\n",
    "print(vetorRes,\"\\n\")\n",
    "listaRestricao = [int(i) for i in vetorRes]\n",
    "listaRestricao\n",
    "# print(matrixInc)"
   ]
  },
  {
   "cell_type": "markdown",
   "metadata": {},
   "source": [
    "<img src=\"desafioponte.png\">"
   ]
  },
  {
   "cell_type": "code",
   "execution_count": 3,
   "metadata": {},
   "outputs": [
    {
     "data": {
      "text/plain": [
       "<Figure size 640x480 with 1 Axes>"
      ]
     },
     "metadata": {},
     "output_type": "display_data"
    }
   ],
   "source": [
    "plota(matrixNo,matrixInc)"
   ]
  },
  {
   "cell_type": "code",
   "execution_count": 4,
   "metadata": {},
   "outputs": [],
   "source": [
    "class no:\n",
    "    def __init__(self, num, ponto):\n",
    "        self.x = ponto[0]\n",
    "        self.y = ponto[1]\n",
    "        self.num = num\n",
    "        self.graux = num*2 - 1\n",
    "        self.grauy = num*2"
   ]
  },
  {
   "cell_type": "code",
   "execution_count": 5,
   "metadata": {},
   "outputs": [],
   "source": [
    "class barra:\n",
    "    def __init__(self,E,A, no1, no2):\n",
    "        self.no1 = no1\n",
    "        self.no2 = no2\n",
    "        self.E = E\n",
    "        self.A = A\n",
    "        self.L = ((no2.x - no1.x)**2+(no2.y - no1.y)**2)**0.5\n",
    "        s = (no2.y - no1.y)/self.L\n",
    "        c = (no2.x - no1.x)/self.L\n",
    "        self.s=s\n",
    "        self.c=c\n",
    "        self.matrix = (self.E*self.A/self.L)*np.array([[c**2,c*s,-c**2,-c*s],\n",
    "                                                       [c*s,s**2,-c*s,-s**2],\n",
    "                                                       [-c**2,-c*s,c**2,c*s],\n",
    "                                                       [-c*s,-s**2,c*s,s**2]])\n",
    "        \n",
    "        self.listagraus = [no1.graux, no1.grauy, no2.graux, no2.grauy]\n",
    "        self.forcainterna = None\n",
    "        self.tensao = None\n",
    "        self.defesp = None\n",
    "        \n",
    "    def calculaTudo(self, desno1x, desno1y,desno2x,desno2y):\n",
    "        s = (self.no2.y - self.no1.y)/self.L\n",
    "        c = (self.no2.x - self.no1.x)/self.L\n",
    "        self.defesp = (-c*desno1x-s*desno1y+c*desno2x+s*desno2y)/self.L\n",
    "        self.tensao = self.E*self.defesp\n",
    "        self.forcainterna = self.tensao*self.A\n",
    "        return self.defesp,self.tensao, self.forcainterna\n",
    "            \n"
   ]
  },
  {
   "cell_type": "code",
   "execution_count": 6,
   "metadata": {},
   "outputs": [],
   "source": [
    "def simplificaGeral(matrix, vetorRes):\n",
    "    newMatrix = np.delete(matrix, (vetorRes), axis=0)\n",
    "    newMatrix = np.delete(newMatrix, (vetorRes), axis=1)\n",
    "    return newMatrix\n",
    "\n",
    "def simplificaSimples(matrix, vetorRes):\n",
    "    newMatrix = np.delete(matrix, (vetorRes), axis=0)\n",
    "    return newMatrix\n"
   ]
  },
  {
   "cell_type": "code",
   "execution_count": 7,
   "metadata": {},
   "outputs": [],
   "source": [
    "def calcula_peso(l_barras,densidade):\n",
    "    massa=0\n",
    "    for b in l_barras:\n",
    "        massa += (b.L/1000) * b.A * densidade\n",
    "    return massa"
   ]
  },
  {
   "cell_type": "code",
   "execution_count": 8,
   "metadata": {},
   "outputs": [],
   "source": [
    "def matrixKg(listaBarra, numNos):\n",
    "    n = len(listaBarra)\n",
    "    zero = np.zeros((numNos*2,numNos*2))\n",
    "    for bar in listaBarra:\n",
    "        zero[bar.listagraus[0]-1:bar.listagraus[1],bar.listagraus[0]-1:bar.listagraus[1]] += bar.matrix[0:2,0:2]\n",
    "        \n",
    "        zero[bar.listagraus[0]-1:bar.listagraus[1],bar.listagraus[2]-1:bar.listagraus[3]] += bar.matrix[0:2,2:4]\n",
    "        \n",
    "        zero[bar.listagraus[2]-1:bar.listagraus[3],bar.listagraus[0]-1:bar.listagraus[1]] += bar.matrix[2:4,0:2]\n",
    "        \n",
    "        zero[bar.listagraus[2]-1:bar.listagraus[3],bar.listagraus[2]-1:bar.listagraus[3]] += bar.matrix[2:4,2:4]\n",
    "\n",
    "    return zero\n"
   ]
  },
  {
   "cell_type": "code",
   "execution_count": 9,
   "metadata": {},
   "outputs": [],
   "source": [
    "def jacobi(matrixRigidez, matrixForca, tolerancia):\n",
    "    size = len(matrixRigidez)\n",
    "    matrixDeslocamento = np.array([[0.0]]*size)\n",
    "    loop = True\n",
    "    while loop:\n",
    "        comp = matrixDeslocamento.copy()\n",
    "        for n in range(size):\n",
    "            R = matrixForca[n][0]\n",
    "            for i in range(size):\n",
    "                R -= matrixRigidez[n][i]*matrixDeslocamento[i][0]\n",
    "            R += matrixRigidez[n][n]*matrixDeslocamento[n][0]\n",
    "            R = R/matrixRigidez[n][n]    \n",
    "            matrixDeslocamento[n][0] = R\n",
    "        if(max(abs(comp - matrixDeslocamento))[0] < tolerancia):\n",
    "            loop = False\n",
    "    return matrixDeslocamento\n",
    "            \n",
    "        \n",
    "        \n"
   ]
  },
  {
   "cell_type": "code",
   "execution_count": 10,
   "metadata": {},
   "outputs": [],
   "source": [
    "listaNo = []\n",
    "for i in range(numNo):\n",
    "    n = no(i+1, [matrixNo[0][i],matrixNo[1][i]])\n",
    "    listaNo.append(n)\n"
   ]
  },
  {
   "cell_type": "code",
   "execution_count": 11,
   "metadata": {},
   "outputs": [],
   "source": [
    "listaBarra = []\n",
    "for i in range(len(matrixInc)):\n",
    "    b = barra(matrixInc[i][2],matrixInc[i][3],listaNo[int(matrixInc[i][0]) - 1],listaNo[int(matrixInc[i][1]) - 1])\n",
    "    listaBarra.append(b)\n",
    "#     print(b.listagraus)"
   ]
  },
  {
   "cell_type": "code",
   "execution_count": 12,
   "metadata": {},
   "outputs": [],
   "source": [
    "Kg = matrixKg(listaBarra, numNo)"
   ]
  },
  {
   "cell_type": "code",
   "execution_count": 13,
   "metadata": {},
   "outputs": [
    {
     "name": "stderr",
     "output_type": "stream",
     "text": [
      "C:\\Users\\55419\\Anaconda3\\lib\\site-packages\\ipykernel_launcher.py:2: DeprecationWarning: using a non-integer array as obj in delete will result in an error in the future\n",
      "  \n",
      "C:\\Users\\55419\\Anaconda3\\lib\\site-packages\\ipykernel_launcher.py:3: DeprecationWarning: using a non-integer array as obj in delete will result in an error in the future\n",
      "  This is separate from the ipykernel package so we can avoid doing imports until\n",
      "C:\\Users\\55419\\Anaconda3\\lib\\site-packages\\ipykernel_launcher.py:7: DeprecationWarning: using a non-integer array as obj in delete will result in an error in the future\n",
      "  import sys\n"
     ]
    }
   ],
   "source": [
    "simpleKg = simplificaGeral(Kg,vetorRes)\n",
    "simpleVetorFor = simplificaSimples(vetorFor,vetorRes)"
   ]
  },
  {
   "cell_type": "code",
   "execution_count": 14,
   "metadata": {},
   "outputs": [],
   "source": [
    "deslocamento = np.linalg.solve(simpleKg,simpleVetorFor)\n",
    "# deslocamento"
   ]
  },
  {
   "cell_type": "code",
   "execution_count": 15,
   "metadata": {},
   "outputs": [],
   "source": [
    "# jacobi(simpleKg,simpleVetorFor, 1e-12)"
   ]
  },
  {
   "cell_type": "code",
   "execution_count": 16,
   "metadata": {},
   "outputs": [],
   "source": [
    "listadeslocamento = [[float(i)] for i in deslocamento]\n",
    "listaRes = [int(i) for i in vetorRes]\n",
    "for n in range(len(listaNo)*2):\n",
    "    if(n in listaRes):\n",
    "        listadeslocamento.insert(n,[0])\n",
    "listadeslocamento = np.array(listadeslocamento)"
   ]
  },
  {
   "cell_type": "code",
   "execution_count": 17,
   "metadata": {},
   "outputs": [
    {
     "name": "stdout",
     "output_type": "stream",
     "text": [
      "[[  0.          83.33333333 166.66666667 250.         333.33333333\n",
      "  416.66666667 500.           0.          83.33333333 166.66666667\n",
      "  250.         333.33333333 416.66666667 500.          41.66666667\n",
      "   83.33333333 125.         166.66666667 210.         250.\n",
      "  290.         333.33333333 375.         416.66666667 458.33333333]\n",
      " [  0.           0.           0.           0.           0.\n",
      "    0.           0.          83.33333333  83.33333333  83.33333333\n",
      "   83.33333333  83.33333333  83.33333333  83.33333333 120.56333333\n",
      "  133.23333333 141.19333333 146.27333333 149.20333333 149.20333333\n",
      "  149.20333333 146.27333333 141.19333333 133.23333333 120.56333333]]\n",
      "[[-3.60381098e-01  8.29729522e+01  1.66430890e+02  2.50025097e+02\n",
      "   3.33619304e+02  4.17077242e+02  5.00410575e+02  1.44166594e-01\n",
      "   8.35089693e+01  1.66773686e+02  2.50025097e+02  3.33276508e+02\n",
      "   4.16541225e+02  4.99906028e+02  4.21388424e+01  8.38273646e+01\n",
      "   1.25448404e+02  1.66996084e+02  2.10165660e+02  2.50025097e+02\n",
      "   2.89884534e+02  3.33054110e+02  3.74601790e+02  4.16222829e+02\n",
      "   4.57911352e+02]\n",
      " [ 0.00000000e+00 -1.10698191e+00 -2.02842739e+00 -2.63596576e+00\n",
      "  -2.02842739e+00 -1.10698191e+00  0.00000000e+00  8.30833333e+01\n",
      "   8.21017471e+01  8.11686364e+01  8.04220582e+01  8.11686364e+01\n",
      "   8.21017471e+01  8.30833333e+01  1.19756842e+02  1.31961785e+02\n",
      "   1.39324468e+02  1.44052938e+02  1.46097525e+02  1.46292058e+02\n",
      "   1.46097525e+02  1.44052938e+02  1.39324468e+02  1.31961785e+02\n",
      "   1.19756842e+02]]\n"
     ]
    }
   ],
   "source": [
    "newMatrixNo = matrixNo.copy()\n",
    "for idx,valor in enumerate(listadeslocamento):\n",
    "    if(idx%2==0):\n",
    "        newMatrixNo[0][int(idx/2)] += valor[0]\n",
    "    else:\n",
    "        newMatrixNo[1][int(idx/2)] += valor[0]\n",
    "print(matrixNo)\n",
    "print(newMatrixNo)"
   ]
  },
  {
   "cell_type": "code",
   "execution_count": 18,
   "metadata": {},
   "outputs": [
    {
     "data": {
      "image/png": "[encoded data removed]",
      "text/plain": [
       "<Figure size 432x288 with 1 Axes>"
      ]
     },
     "metadata": {},
     "output_type": "display_data"
    }
   ],
   "source": [
    "plota(newMatrixNo,matrixInc)"
   ]
  },
  {
   "cell_type": "code",
   "execution_count": 19,
   "metadata": {},
   "outputs": [],
   "source": [
    "listaDef = []\n",
    "listaTensao = []\n",
    "listaForcaInterna = []\n",
    "\n",
    "for b in listaBarra:\n",
    "    dx1 = listadeslocamento[b.no1.graux-1]\n",
    "    dy1 = listadeslocamento[b.no1.grauy-1]\n",
    "    dx2 = listadeslocamento[b.no2.graux-1]\n",
    "    dy2 = listadeslocamento[b.no2.grauy-1]\n",
    "    \n",
    "    defor,tens,fi = b.calculaTudo(dx1,dy1,dx2,dy2)\n",
    "    listaDef.append(defor)\n",
    "    listaTensao.append(tens)\n",
    "    listaForcaInterna.append(fi)\n",
    "listaDef = np.array(listaDef)\n",
    "listaTensao = np.array(listaTensao)\n",
    "listaForcaInterna = np.array(listaForcaInterna)"
   ]
  },
  {
   "cell_type": "code",
   "execution_count": 20,
   "metadata": {},
   "outputs": [],
   "source": [
    "listaR=Kg.dot(listadeslocamento)\n",
    "listaReacao=[]\n",
    "for i in vetorRes:\n",
    "    listaReacao.append([listaR[int(i[0])][0]])\n",
    "listaReacao=np.array(listaReacao)"
   ]
  },
  {
   "cell_type": "code",
   "execution_count": 21,
   "metadata": {},
   "outputs": [
    {
     "data": {
      "text/plain": [
       "0.29659423018624"
      ]
     },
     "execution_count": 21,
     "metadata": {},
     "output_type": "execute_result"
    }
   ],
   "source": [
    "calcula_peso(listaBarra,848)"
   ]
  },
  {
   "cell_type": "code",
   "execution_count": 22,
   "metadata": {},
   "outputs": [],
   "source": [
    "geraSaida(\"saidadesafio\",listaReacao,listadeslocamento,listaDef,listaForcaInterna,listaTensao)"
   ]
  },
  {
   "cell_type": "code",
   "execution_count": 23,
   "metadata": {},
   "outputs": [],
   "source": [
    "def maior_parametro_barra(lista):\n",
    "    new_l=[];\n",
    "    for i in range(len(lista)):\n",
    "        new_l.append({\"barra\":i,\"valor\":abs(lista[i])})\n",
    "        \n",
    "    final_l = sorted(new_l, key=lambda k: k['valor']) \n",
    "    return final_l"
   ]
  },
  {
   "cell_type": "code",
   "execution_count": 24,
   "metadata": {},
   "outputs": [
    {
     "data": {
      "text/plain": [
       "[{'barra': 0, 'valor': array([0.])},\n",
       " {'barra': 5, 'valor': array([6.66133815e-19])},\n",
       " {'barra': 33, 'valor': array([6.7419039e-18])},\n",
       " {'barra': 24, 'valor': array([0.00037763])},\n",
       " {'barra': 19, 'valor': array([0.00037763])},\n",
       " {'barra': 29, 'valor': array([0.00056895])},\n",
       " {'barra': 37, 'valor': array([0.00056895])},\n",
       " {'barra': 39, 'valor': array([0.00080084])},\n",
       " {'barra': 27, 'valor': array([0.00080084])},\n",
       " {'barra': 23, 'valor': array([0.0008234])},\n",
       " {'barra': 20, 'valor': array([0.0008234])},\n",
       " {'barra': 30, 'valor': array([0.00088494])},\n",
       " {'barra': 36, 'valor': array([0.00088494])},\n",
       " {'barra': 22, 'valor': array([0.00098307])},\n",
       " {'barra': 21, 'valor': array([0.00098307])},\n",
       " {'barra': 26, 'valor': array([0.00111155])},\n",
       " {'barra': 40, 'valor': array([0.00111155])},\n",
       " {'barra': 38, 'valor': array([0.00130555])},\n",
       " {'barra': 28, 'valor': array([0.00130555])},\n",
       " {'barra': 1, 'valor': array([0.00149525])},\n",
       " {'barra': 7, 'valor': array([0.00149525])},\n",
       " {'barra': 11, 'valor': array([0.00149525])},\n",
       " {'barra': 4, 'valor': array([0.00149525])},\n",
       " {'barra': 8, 'valor': array([0.00163523])},\n",
       " {'barra': 10, 'valor': array([0.00163523])},\n",
       " {'barra': 35, 'valor': array([0.00166186])},\n",
       " {'barra': 31, 'valor': array([0.00166186])},\n",
       " {'barra': 18, 'valor': array([0.00211461])},\n",
       " {'barra': 13, 'valor': array([0.00211461])},\n",
       " {'barra': 41, 'valor': array([0.0022584])},\n",
       " {'barra': 25, 'valor': array([0.0022584])},\n",
       " {'barra': 17, 'valor': array([0.00231257])},\n",
       " {'barra': 14, 'valor': array([0.00231257])},\n",
       " {'barra': 15, 'valor': array([0.00233608])},\n",
       " {'barra': 16, 'valor': array([0.00233608])},\n",
       " {'barra': 51, 'valor': array([0.00262655])},\n",
       " {'barra': 42, 'valor': array([0.00262655])},\n",
       " {'barra': 12, 'valor': array([0.003])},\n",
       " {'barra': 6, 'valor': array([0.003])},\n",
       " {'barra': 32, 'valor': array([0.00310437])},\n",
       " {'barra': 34, 'valor': array([0.00310437])},\n",
       " {'barra': 2, 'valor': array([0.00313049])},\n",
       " {'barra': 3, 'valor': array([0.00313049])},\n",
       " {'barra': 9, 'valor': array([0.00330371])},\n",
       " {'barra': 46, 'valor': array([0.00351407])},\n",
       " {'barra': 47, 'valor': array([0.00351407])},\n",
       " {'barra': 50, 'valor': array([0.00369873])},\n",
       " {'barra': 43, 'valor': array([0.00369873])},\n",
       " {'barra': 44, 'valor': array([0.0038274])},\n",
       " {'barra': 49, 'valor': array([0.0038274])},\n",
       " {'barra': 48, 'valor': array([0.00513709])},\n",
       " {'barra': 45, 'valor': array([0.00513709])}]"
      ]
     },
     "execution_count": 24,
     "metadata": {},
     "output_type": "execute_result"
    }
   ],
   "source": [
    "maior_parametro_barra(listaDef)"
   ]
  },
  {
   "cell_type": "code",
   "execution_count": 25,
   "metadata": {},
   "outputs": [
    {
     "data": {
      "text/plain": [
       "[{'barra': 0, 'valor': array([0.])},\n",
       " {'barra': 5, 'valor': array([2.66453526e-14])},\n",
       " {'barra': 33, 'valor': array([2.69676156e-13])},\n",
       " {'barra': 24, 'valor': array([75.52640502])},\n",
       " {'barra': 19, 'valor': array([75.52640502])},\n",
       " {'barra': 29, 'valor': array([113.79004753])},\n",
       " {'barra': 37, 'valor': array([113.79004753])},\n",
       " {'barra': 39, 'valor': array([240.25235424])},\n",
       " {'barra': 27, 'valor': array([240.25235424])},\n",
       " {'barra': 23, 'valor': array([247.01863638])},\n",
       " {'barra': 20, 'valor': array([247.01863638])},\n",
       " {'barra': 30, 'valor': array([353.97462943])},\n",
       " {'barra': 36, 'valor': array([353.97462943])},\n",
       " {'barra': 22, 'valor': array([393.22836539])},\n",
       " {'barra': 21, 'valor': array([393.22836539])},\n",
       " {'barra': 26, 'valor': array([444.61884184])},\n",
       " {'barra': 40, 'valor': array([444.61884184])},\n",
       " {'barra': 38, 'valor': array([522.21986058])},\n",
       " {'barra': 28, 'valor': array([522.21986058])},\n",
       " {'barra': 1, 'valor': array([598.10070482])},\n",
       " {'barra': 7, 'valor': array([598.10070482])},\n",
       " {'barra': 11, 'valor': array([598.10070482])},\n",
       " {'barra': 4, 'valor': array([598.10070482])},\n",
       " {'barra': 8, 'valor': array([654.09377522])},\n",
       " {'barra': 10, 'valor': array([654.09377522])},\n",
       " {'barra': 35, 'valor': array([664.74211874])},\n",
       " {'barra': 31, 'valor': array([664.74211874])},\n",
       " {'barra': 18, 'valor': array([845.84212842])},\n",
       " {'barra': 13, 'valor': array([845.84212842])},\n",
       " {'barra': 41, 'valor': array([903.35831465])},\n",
       " {'barra': 25, 'valor': array([903.35831465])},\n",
       " {'barra': 17, 'valor': array([925.02828798])},\n",
       " {'barra': 14, 'valor': array([925.02828798])},\n",
       " {'barra': 15, 'valor': array([934.43100004])},\n",
       " {'barra': 16, 'valor': array([934.43100004])},\n",
       " {'barra': 51, 'valor': array([1050.62018125])},\n",
       " {'barra': 42, 'valor': array([1050.62018125])},\n",
       " {'barra': 12, 'valor': array([1200.])},\n",
       " {'barra': 6, 'valor': array([1200.])},\n",
       " {'barra': 32, 'valor': array([1241.74906841])},\n",
       " {'barra': 34, 'valor': array([1241.74906841])},\n",
       " {'barra': 2, 'valor': array([1252.19448004])},\n",
       " {'barra': 3, 'valor': array([1252.19448004])},\n",
       " {'barra': 9, 'valor': array([1321.48499336])},\n",
       " {'barra': 46, 'valor': array([1405.62600992])},\n",
       " {'barra': 47, 'valor': array([1405.62600992])},\n",
       " {'barra': 50, 'valor': array([1479.49349226])},\n",
       " {'barra': 43, 'valor': array([1479.49349226])},\n",
       " {'barra': 44, 'valor': array([1530.96179139])},\n",
       " {'barra': 49, 'valor': array([1530.96179139])},\n",
       " {'barra': 45, 'valor': array([2054.83606839])},\n",
       " {'barra': 48, 'valor': array([2054.83606839])}]"
      ]
     },
     "execution_count": 25,
     "metadata": {},
     "output_type": "execute_result"
    }
   ],
   "source": [
    "maior_parametro_barra(listaForcaInterna)"
   ]
  },
  {
   "cell_type": "code",
   "execution_count": 26,
   "metadata": {},
   "outputs": [
    {
     "data": {
      "text/plain": [
       "[{'barra': 0, 'valor': array([0.])},\n",
       " {'barra': 5, 'valor': array([2.66453526e-09])},\n",
       " {'barra': 33, 'valor': array([2.69676156e-08])},\n",
       " {'barra': 24, 'valor': array([1510528.10042805])},\n",
       " {'barra': 19, 'valor': array([1510528.10042809])},\n",
       " {'barra': 29, 'valor': array([2275800.95068961])},\n",
       " {'barra': 37, 'valor': array([2275800.95068962])},\n",
       " {'barra': 39, 'valor': array([3203364.72318092])},\n",
       " {'barra': 27, 'valor': array([3203364.72318095])},\n",
       " {'barra': 23, 'valor': array([3293581.81839911])},\n",
       " {'barra': 20, 'valor': array([3293581.81839912])},\n",
       " {'barra': 30, 'valor': array([3539746.29427976])},\n",
       " {'barra': 36, 'valor': array([3539746.29427979])},\n",
       " {'barra': 22, 'valor': array([3932283.65393482])},\n",
       " {'barra': 21, 'valor': array([3932283.65393485])},\n",
       " {'barra': 26, 'valor': array([4446188.41840782])},\n",
       " {'barra': 40, 'valor': array([4446188.41840784])},\n",
       " {'barra': 38, 'valor': array([5222198.60582903])},\n",
       " {'barra': 28, 'valor': array([5222198.60582906])},\n",
       " {'barra': 1, 'valor': array([5981007.04817099])},\n",
       " {'barra': 7, 'valor': array([5981007.04817099])},\n",
       " {'barra': 11, 'valor': array([5981007.04817099])},\n",
       " {'barra': 4, 'valor': array([5981007.048171])},\n",
       " {'barra': 8, 'valor': array([6540937.75221651])},\n",
       " {'barra': 10, 'valor': array([6540937.75221651])},\n",
       " {'barra': 35, 'valor': array([6647421.18739492])},\n",
       " {'barra': 31, 'valor': array([6647421.18739496])},\n",
       " {'barra': 18, 'valor': array([8458421.28417248])},\n",
       " {'barra': 13, 'valor': array([8458421.28417248])},\n",
       " {'barra': 41, 'valor': array([9033583.14652078])},\n",
       " {'barra': 25, 'valor': array([9033583.1465208])},\n",
       " {'barra': 17, 'valor': array([9250282.87982276])},\n",
       " {'barra': 14, 'valor': array([9250282.87982276])},\n",
       " {'barra': 15, 'valor': array([9344310.00040169])},\n",
       " {'barra': 16, 'valor': array([9344310.00040169])},\n",
       " {'barra': 51, 'valor': array([10506201.8125065])},\n",
       " {'barra': 42, 'valor': array([10506201.81250655])},\n",
       " {'barra': 12, 'valor': array([11999999.99999997])},\n",
       " {'barra': 6, 'valor': array([11999999.99999998])},\n",
       " {'barra': 32, 'valor': array([12417490.68406301])},\n",
       " {'barra': 34, 'valor': array([12417490.68406304])},\n",
       " {'barra': 2, 'valor': array([12521944.80038749])},\n",
       " {'barra': 3, 'valor': array([12521944.80038749])},\n",
       " {'barra': 9, 'valor': array([13214849.93358661])},\n",
       " {'barra': 46, 'valor': array([14056260.09920944])},\n",
       " {'barra': 47, 'valor': array([14056260.09920944])},\n",
       " {'barra': 50, 'valor': array([14794934.92259797])},\n",
       " {'barra': 43, 'valor': array([14794934.92259803])},\n",
       " {'barra': 44, 'valor': array([15309617.91388691])},\n",
       " {'barra': 49, 'valor': array([15309617.91388694])},\n",
       " {'barra': 48, 'valor': array([20548360.68390089])},\n",
       " {'barra': 45, 'valor': array([20548360.68390089])}]"
      ]
     },
     "execution_count": 26,
     "metadata": {},
     "output_type": "execute_result"
    }
   ],
   "source": [
    "maior_parametro_barra(listaTensao)"
   ]
  },
  {
   "cell_type": "code",
   "execution_count": null,
   "metadata": {},
   "outputs": [],
   "source": []
  },
  {
   "cell_type": "code",
   "execution_count": null,
   "metadata": {},
   "outputs": [],
   "source": []
  }
 ],
 "metadata": {
  "kernelspec": {
   "display_name": "Python 3",
   "language": "python",
   "name": "python3"
  },
  "language_info": {
   "codemirror_mode": {
    "name": "ipython",
    "version": 3
   },
   "file_extension": ".py",
   "mimetype": "text/x-python",
   "name": "python",
   "nbconvert_exporter": "python",
   "pygments_lexer": "ipython3",
   "version": "3.6.5"
  }
 },
 "nbformat": 4,
 "nbformat_minor": 2
}
